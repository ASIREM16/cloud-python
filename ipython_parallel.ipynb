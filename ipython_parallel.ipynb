{
 "cells": [
  {
   "cell_type": "markdown",
   "metadata": {},
   "source": [
    "<img src=\"http://datapark.io/img/logo.png\" alt=\"datapark\" width=\"45%\" align=\"right\" border=\"4\">"
   ]
  },
  {
   "cell_type": "markdown",
   "metadata": {},
   "source": [
    "# IPython Parallel"
   ]
  },
  {
   "cell_type": "code",
   "execution_count": null,
   "metadata": {
    "collapsed": true
   },
   "outputs": [],
   "source": [
    "import numpy as np\n",
    "from time import time"
   ]
  },
  {
   "cell_type": "markdown",
   "metadata": {},
   "source": [
    "## LSM Monte Carlo for American Options"
   ]
  },
  {
   "cell_type": "markdown",
   "metadata": {},
   "source": [
    "The following function implements the Least-Squares Monte Carlo (LSM) algorithm to value American options by Monte Carlo simulation."
   ]
  },
  {
   "cell_type": "code",
   "execution_count": null,
   "metadata": {
    "collapsed": false
   },
   "outputs": [],
   "source": [
    "def optionValue(S0, vol, T, K=40, M=50, I=10 * 4096, r=0.06):\n",
    "    import numpy as np\n",
    "    np.random.seed(150000)  # fix the seed for every valuation\n",
    "    dt = T / M  # time interval\n",
    "    df = np.exp(-r * dt)  # discount factor per time time interval\n",
    "    S = np.zeros((M + 1, I), dtype=np.float64)  # stock price matrix\n",
    "    S[0, :] = S0  # intial values for stock price\n",
    "    for t in range(1, M + 1):\n",
    "        ran = np.random.standard_normal(I)\n",
    "        S[t, :] = S[t - 1, :] * np.exp((r - vol ** 2 / 2) * dt\n",
    "                        + vol * ran * np.sqrt(dt))\n",
    "    h = np.maximum(K - S, 0)  # inner values for put option\n",
    "    V = np.zeros_like(h)  # value matrix\n",
    "    V[-1] = h[-1]\n",
    "    for t in range(M - 1, 0, -1):\n",
    "        rg = np.polyfit(S[t, :], V[t + 1, :] * df, 5)  # regression\n",
    "        C = np.polyval(rg, S[t, :])  # evaluation of regression\n",
    "        V[t, :] = np.where(h[t, :] > C, h[t, :],\n",
    "                         V[t + 1, :] * df)  # exercise decision/optimization\n",
    "    V0 = np.sum(V[1, :] * df) / I  # LSM estimator\n",
    "    print (\"S0 %4.1f|vol %4.2f|T %2.1f| Option Value %8.3f\" % (S0, vol, T, V0))\n",
    "    return V0"
   ]
  },
  {
   "cell_type": "markdown",
   "metadata": {},
   "source": [
    "## Sequential Valuation"
   ]
  },
  {
   "cell_type": "code",
   "execution_count": null,
   "metadata": {
    "collapsed": true
   },
   "outputs": [],
   "source": [
    "def seqValue():\n",
    "    optionValues = []\n",
    "    for S0 in (36., 38., 40., 42., 44.):  # initial stock price values\n",
    "        for vol in (0.2, 0.4):  # volatility values\n",
    "            for T in (1.0, 2.0):  # times-to-maturity\n",
    "                optionValues.append(optionValue(S0, vol, T))\n",
    "    return optionValues"
   ]
  },
  {
   "cell_type": "code",
   "execution_count": null,
   "metadata": {
    "collapsed": false
   },
   "outputs": [],
   "source": [
    "t0 = time()\n",
    "optionValues = seqValue()  # calculate all values\n",
    "ts = time() - t0\n",
    "print (\"Sequential time in sec. %6.3f\" % ts)"
   ]
  },
  {
   "cell_type": "markdown",
   "metadata": {},
   "source": [
    "## Parallel Valuation"
   ]
  },
  {
   "cell_type": "code",
   "execution_count": null,
   "metadata": {
    "collapsed": false
   },
   "outputs": [],
   "source": [
    "from IPython.parallel import Client\n",
    "cluster_profile = \"default\"\n",
    "c = Client(profile=cluster_profile)\n",
    "view = c.load_balanced_view()"
   ]
  },
  {
   "cell_type": "code",
   "execution_count": null,
   "metadata": {
    "collapsed": true
   },
   "outputs": [],
   "source": [
    "def parValue():\n",
    "    optionValues = []\n",
    "    for S in (36., 38., 40., 42., 44.):\n",
    "        for vol in (0.2, 0.4):\n",
    "            for T in (1.0, 2.0):\n",
    "                value = view.apply_async(optionValue, S, vol, T)\n",
    "                optionValues.append(value)\n",
    "    c.wait(optionValues)\n",
    "    return optionValues"
   ]
  },
  {
   "cell_type": "code",
   "execution_count": null,
   "metadata": {
    "collapsed": false
   },
   "outputs": [],
   "source": [
    "t0 = time()\n",
    "optionValues = parValue()\n",
    "tp = time() - t0\n",
    "print (\"Parallel time in sec. %6.3f\" % tp)"
   ]
  },
  {
   "cell_type": "code",
   "execution_count": null,
   "metadata": {
    "collapsed": false,
    "scrolled": true
   },
   "outputs": [],
   "source": [
    "for result in optionValues:\n",
    "    print (result.metadata['stdout'])"
   ]
  },
  {
   "cell_type": "markdown",
   "metadata": {},
   "source": [
    "## Comparison"
   ]
  },
  {
   "cell_type": "code",
   "execution_count": null,
   "metadata": {
    "collapsed": false
   },
   "outputs": [],
   "source": [
    "%matplotlib nbagg\n",
    "%matplotlib inline\n",
    "import matplotlib.pyplot as plt"
   ]
  },
  {
   "cell_type": "code",
   "execution_count": null,
   "metadata": {
    "collapsed": false
   },
   "outputs": [],
   "source": [
    "wi = 0.4\n",
    "plt.bar((1.5 - wi/2, 2.5 - wi/2), (ts/ts, tp/ts), width=wi)\n",
    "plt.xticks((1.5, 2.5), ('sequential', 'parallel'))\n",
    "plt.grid(True), plt.ylim(0, 1.1), plt.xlim(0.75, 3.25)\n",
    "plt.ylabel('relative performance (lower = better)')\n",
    "plt.title('Sequential vs. Parallel LSM')"
   ]
  },
  {
   "cell_type": "markdown",
   "metadata": {},
   "source": [
    "<img src=\"http://datapark.io/img/logo.png\" alt=\"datpark\" width=\"35%\" align=\"right\" border=\"0\"><br>\n",
    "\n",
    "<a href=\"http://datapark.io\" target=\"_blank\">datapark.io</a> | <a href=\"http://twitter.com/dataparkio\" target=\"_blank\">@datparkio</a> | <a href=\"mailto:team@datapark.io\">team@datapark.io</a>\n"
   ]
  }
 ],
 "metadata": {
  "kernelspec": {
   "display_name": "Python 2",
   "language": "python",
   "name": "python2"
  },
  "language_info": {
   "codemirror_mode": {
    "name": "ipython",
    "version": 2
   },
   "file_extension": ".py",
   "mimetype": "text/x-python",
   "name": "python",
   "nbconvert_exporter": "python",
   "pygments_lexer": "ipython2",
   "version": "2.7.10"
  }
 },
 "nbformat": 4,
 "nbformat_minor": 0
}
